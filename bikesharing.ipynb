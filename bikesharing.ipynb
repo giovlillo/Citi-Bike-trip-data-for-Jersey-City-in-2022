{
 "cells": [
  {
   "cell_type": "markdown",
   "metadata": {},
   "source": [
    "## Analyzing the Citi Bike trip data for Jersey City in 2022 - Data Science Portfolio Project "
   ]
  },
  {
   "cell_type": "markdown",
   "metadata": {},
   "source": [
    "This project focuses on using Python to explore and analyze CitiBike rides in Jersey City in 2022 (Data provided by citibikenyc.com) with the aim of answering the following questions:\n",
    "\n",
    "* What is the most used bike share and by whom?\n",
    "* What is the most used route?\n",
    "* Is the bike share service used exclusively for business purposes?\n",
    "* In which month is the service most used?"
   ]
  },
  {
   "cell_type": "markdown",
   "metadata": {},
   "source": [
    "### Import and Clean Data"
   ]
  },
  {
   "cell_type": "markdown",
   "metadata": {},
   "source": [
    "Import libraries\n"
   ]
  },
  {
   "cell_type": "code",
   "execution_count": null,
   "metadata": {},
   "outputs": [],
   "source": [
    "import pandas as pd\n",
    "\n",
    "trip = pd.read_csv(\"dataset\\citibike.csv\")"
   ]
  },
  {
   "cell_type": "markdown",
   "metadata": {},
   "source": [
    "We inspect citibike.csv with __.info()__. Let's visualize the first 5 rings. So we check the headers and the presence of unnecessary columns. We use __.head__"
   ]
  },
  {
   "cell_type": "code",
   "execution_count": 2,
   "metadata": {},
   "outputs": [
    {
     "name": "stdout",
     "output_type": "stream",
     "text": [
      "<class 'pandas.core.frame.DataFrame'>\n",
      "RangeIndex: 895497 entries, 0 to 895496\n",
      "Data columns (total 13 columns):\n",
      " #   Column              Non-Null Count   Dtype \n",
      "---  ------              --------------   ----- \n",
      " 0   ride_id             895497 non-null  object\n",
      " 1   rideable_type       895496 non-null  object\n",
      " 2   started_at          895496 non-null  object\n",
      " 3   ended_at            895496 non-null  object\n",
      " 4   start_station_name  895486 non-null  object\n",
      " 5   start_station_id    895486 non-null  object\n",
      " 6   end_station_name    892292 non-null  object\n",
      " 7   end_station_id      892292 non-null  object\n",
      " 8   start_lat           895496 non-null  object\n",
      " 9   start_lng           895496 non-null  object\n",
      " 10  end_lat             893526 non-null  object\n",
      " 11  end_lng             893526 non-null  object\n",
      " 12  member_casual       895496 non-null  object\n",
      "dtypes: object(13)\n",
      "memory usage: 88.8+ MB\n"
     ]
    },
    {
     "data": {
      "text/html": [
       "<div>\n",
       "<style scoped>\n",
       "    .dataframe tbody tr th:only-of-type {\n",
       "        vertical-align: middle;\n",
       "    }\n",
       "\n",
       "    .dataframe tbody tr th {\n",
       "        vertical-align: top;\n",
       "    }\n",
       "\n",
       "    .dataframe thead th {\n",
       "        text-align: right;\n",
       "    }\n",
       "</style>\n",
       "<table border=\"1\" class=\"dataframe\">\n",
       "  <thead>\n",
       "    <tr style=\"text-align: right;\">\n",
       "      <th></th>\n",
       "      <th>ride_id</th>\n",
       "      <th>rideable_type</th>\n",
       "      <th>started_at</th>\n",
       "      <th>ended_at</th>\n",
       "      <th>start_station_name</th>\n",
       "      <th>start_station_id</th>\n",
       "      <th>end_station_name</th>\n",
       "      <th>end_station_id</th>\n",
       "      <th>start_lat</th>\n",
       "      <th>start_lng</th>\n",
       "      <th>end_lat</th>\n",
       "      <th>end_lng</th>\n",
       "      <th>member_casual</th>\n",
       "    </tr>\n",
       "  </thead>\n",
       "  <tbody>\n",
       "    <tr>\n",
       "      <th>0</th>\n",
       "      <td>CA5837152804D4B5</td>\n",
       "      <td>electric_bike</td>\n",
       "      <td>2022-01-26 18:50:39</td>\n",
       "      <td>2022-01-26 18:51:53</td>\n",
       "      <td>12 St &amp; Sinatra Dr N</td>\n",
       "      <td>HB201</td>\n",
       "      <td>12 St &amp; Sinatra Dr N</td>\n",
       "      <td>HB201</td>\n",
       "      <td>40.750604142368964</td>\n",
       "      <td>-74.02402013540268</td>\n",
       "      <td>40.750604142368964</td>\n",
       "      <td>-74.02402013540268</td>\n",
       "      <td>member</td>\n",
       "    </tr>\n",
       "    <tr>\n",
       "      <th>1</th>\n",
       "      <td>BA06A5E45B6601D2</td>\n",
       "      <td>classic_bike</td>\n",
       "      <td>2022-01-28 13:14:07</td>\n",
       "      <td>2022-01-28 13:20:23</td>\n",
       "      <td>Essex Light Rail</td>\n",
       "      <td>JC038</td>\n",
       "      <td>Essex Light Rail</td>\n",
       "      <td>JC038</td>\n",
       "      <td>40.7127742</td>\n",
       "      <td>-74.0364857</td>\n",
       "      <td>40.7127742</td>\n",
       "      <td>-74.0364857</td>\n",
       "      <td>member</td>\n",
       "    </tr>\n",
       "    <tr>\n",
       "      <th>2</th>\n",
       "      <td>7B6827D7B9508D93</td>\n",
       "      <td>classic_bike</td>\n",
       "      <td>2022-01-10 19:55:13</td>\n",
       "      <td>2022-01-10 20:00:37</td>\n",
       "      <td>Essex Light Rail</td>\n",
       "      <td>JC038</td>\n",
       "      <td>Essex Light Rail</td>\n",
       "      <td>JC038</td>\n",
       "      <td>40.7127742</td>\n",
       "      <td>-74.0364857</td>\n",
       "      <td>40.7127742</td>\n",
       "      <td>-74.0364857</td>\n",
       "      <td>member</td>\n",
       "    </tr>\n",
       "    <tr>\n",
       "      <th>3</th>\n",
       "      <td>6E5864EA6FCEC90D</td>\n",
       "      <td>electric_bike</td>\n",
       "      <td>2022-01-26 07:54:57</td>\n",
       "      <td>2022-01-26 07:55:22</td>\n",
       "      <td>12 St &amp; Sinatra Dr N</td>\n",
       "      <td>HB201</td>\n",
       "      <td>12 St &amp; Sinatra Dr N</td>\n",
       "      <td>HB201</td>\n",
       "      <td>40.750604142368964</td>\n",
       "      <td>-74.02402013540268</td>\n",
       "      <td>40.750604142368964</td>\n",
       "      <td>-74.02402013540268</td>\n",
       "      <td>member</td>\n",
       "    </tr>\n",
       "    <tr>\n",
       "      <th>4</th>\n",
       "      <td>E24954255BBDE32D</td>\n",
       "      <td>electric_bike</td>\n",
       "      <td>2022-01-13 18:44:46</td>\n",
       "      <td>2022-01-13 18:45:43</td>\n",
       "      <td>12 St &amp; Sinatra Dr N</td>\n",
       "      <td>HB201</td>\n",
       "      <td>12 St &amp; Sinatra Dr N</td>\n",
       "      <td>HB201</td>\n",
       "      <td>40.750604142368964</td>\n",
       "      <td>-74.02402013540268</td>\n",
       "      <td>40.750604142368964</td>\n",
       "      <td>-74.02402013540268</td>\n",
       "      <td>member</td>\n",
       "    </tr>\n",
       "  </tbody>\n",
       "</table>\n",
       "</div>"
      ],
      "text/plain": [
       "            ride_id  rideable_type           started_at             ended_at  \\\n",
       "0  CA5837152804D4B5  electric_bike  2022-01-26 18:50:39  2022-01-26 18:51:53   \n",
       "1  BA06A5E45B6601D2   classic_bike  2022-01-28 13:14:07  2022-01-28 13:20:23   \n",
       "2  7B6827D7B9508D93   classic_bike  2022-01-10 19:55:13  2022-01-10 20:00:37   \n",
       "3  6E5864EA6FCEC90D  electric_bike  2022-01-26 07:54:57  2022-01-26 07:55:22   \n",
       "4  E24954255BBDE32D  electric_bike  2022-01-13 18:44:46  2022-01-13 18:45:43   \n",
       "\n",
       "     start_station_name start_station_id      end_station_name end_station_id  \\\n",
       "0  12 St & Sinatra Dr N            HB201  12 St & Sinatra Dr N          HB201   \n",
       "1      Essex Light Rail            JC038      Essex Light Rail          JC038   \n",
       "2      Essex Light Rail            JC038      Essex Light Rail          JC038   \n",
       "3  12 St & Sinatra Dr N            HB201  12 St & Sinatra Dr N          HB201   \n",
       "4  12 St & Sinatra Dr N            HB201  12 St & Sinatra Dr N          HB201   \n",
       "\n",
       "            start_lat           start_lng             end_lat  \\\n",
       "0  40.750604142368964  -74.02402013540268  40.750604142368964   \n",
       "1          40.7127742         -74.0364857          40.7127742   \n",
       "2          40.7127742         -74.0364857          40.7127742   \n",
       "3  40.750604142368964  -74.02402013540268  40.750604142368964   \n",
       "4  40.750604142368964  -74.02402013540268  40.750604142368964   \n",
       "\n",
       "              end_lng member_casual  \n",
       "0  -74.02402013540268        member  \n",
       "1         -74.0364857        member  \n",
       "2         -74.0364857        member  \n",
       "3  -74.02402013540268        member  \n",
       "4  -74.02402013540268        member  "
      ]
     },
     "execution_count": 2,
     "metadata": {},
     "output_type": "execute_result"
    }
   ],
   "source": [
    "trip.info()\n",
    "trip.head()"
   ]
  },
  {
   "cell_type": "markdown",
   "metadata": {},
   "source": [
    "### Data Cleaning"
   ]
  },
  {
   "cell_type": "markdown",
   "metadata": {},
   "source": [
    "Delete the columns _'ride_id'_, _'start_lat'_, _'start_lng'_, _'end_lat'_, and _'end_lng'_"
   ]
  },
  {
   "cell_type": "code",
   "execution_count": 3,
   "metadata": {},
   "outputs": [
    {
     "data": {
      "text/html": [
       "<div>\n",
       "<style scoped>\n",
       "    .dataframe tbody tr th:only-of-type {\n",
       "        vertical-align: middle;\n",
       "    }\n",
       "\n",
       "    .dataframe tbody tr th {\n",
       "        vertical-align: top;\n",
       "    }\n",
       "\n",
       "    .dataframe thead th {\n",
       "        text-align: right;\n",
       "    }\n",
       "</style>\n",
       "<table border=\"1\" class=\"dataframe\">\n",
       "  <thead>\n",
       "    <tr style=\"text-align: right;\">\n",
       "      <th></th>\n",
       "      <th>rideable_type</th>\n",
       "      <th>started_at</th>\n",
       "      <th>ended_at</th>\n",
       "      <th>start_station_name</th>\n",
       "      <th>start_station_id</th>\n",
       "      <th>end_station_name</th>\n",
       "      <th>end_station_id</th>\n",
       "      <th>member_casual</th>\n",
       "    </tr>\n",
       "  </thead>\n",
       "  <tbody>\n",
       "    <tr>\n",
       "      <th>0</th>\n",
       "      <td>electric_bike</td>\n",
       "      <td>2022-01-26 18:50:39</td>\n",
       "      <td>2022-01-26 18:51:53</td>\n",
       "      <td>12 St &amp; Sinatra Dr N</td>\n",
       "      <td>HB201</td>\n",
       "      <td>12 St &amp; Sinatra Dr N</td>\n",
       "      <td>HB201</td>\n",
       "      <td>member</td>\n",
       "    </tr>\n",
       "    <tr>\n",
       "      <th>1</th>\n",
       "      <td>classic_bike</td>\n",
       "      <td>2022-01-28 13:14:07</td>\n",
       "      <td>2022-01-28 13:20:23</td>\n",
       "      <td>Essex Light Rail</td>\n",
       "      <td>JC038</td>\n",
       "      <td>Essex Light Rail</td>\n",
       "      <td>JC038</td>\n",
       "      <td>member</td>\n",
       "    </tr>\n",
       "    <tr>\n",
       "      <th>2</th>\n",
       "      <td>classic_bike</td>\n",
       "      <td>2022-01-10 19:55:13</td>\n",
       "      <td>2022-01-10 20:00:37</td>\n",
       "      <td>Essex Light Rail</td>\n",
       "      <td>JC038</td>\n",
       "      <td>Essex Light Rail</td>\n",
       "      <td>JC038</td>\n",
       "      <td>member</td>\n",
       "    </tr>\n",
       "    <tr>\n",
       "      <th>3</th>\n",
       "      <td>electric_bike</td>\n",
       "      <td>2022-01-26 07:54:57</td>\n",
       "      <td>2022-01-26 07:55:22</td>\n",
       "      <td>12 St &amp; Sinatra Dr N</td>\n",
       "      <td>HB201</td>\n",
       "      <td>12 St &amp; Sinatra Dr N</td>\n",
       "      <td>HB201</td>\n",
       "      <td>member</td>\n",
       "    </tr>\n",
       "    <tr>\n",
       "      <th>4</th>\n",
       "      <td>electric_bike</td>\n",
       "      <td>2022-01-13 18:44:46</td>\n",
       "      <td>2022-01-13 18:45:43</td>\n",
       "      <td>12 St &amp; Sinatra Dr N</td>\n",
       "      <td>HB201</td>\n",
       "      <td>12 St &amp; Sinatra Dr N</td>\n",
       "      <td>HB201</td>\n",
       "      <td>member</td>\n",
       "    </tr>\n",
       "  </tbody>\n",
       "</table>\n",
       "</div>"
      ],
      "text/plain": [
       "   rideable_type           started_at             ended_at  \\\n",
       "0  electric_bike  2022-01-26 18:50:39  2022-01-26 18:51:53   \n",
       "1   classic_bike  2022-01-28 13:14:07  2022-01-28 13:20:23   \n",
       "2   classic_bike  2022-01-10 19:55:13  2022-01-10 20:00:37   \n",
       "3  electric_bike  2022-01-26 07:54:57  2022-01-26 07:55:22   \n",
       "4  electric_bike  2022-01-13 18:44:46  2022-01-13 18:45:43   \n",
       "\n",
       "     start_station_name start_station_id      end_station_name end_station_id  \\\n",
       "0  12 St & Sinatra Dr N            HB201  12 St & Sinatra Dr N          HB201   \n",
       "1      Essex Light Rail            JC038      Essex Light Rail          JC038   \n",
       "2      Essex Light Rail            JC038      Essex Light Rail          JC038   \n",
       "3  12 St & Sinatra Dr N            HB201  12 St & Sinatra Dr N          HB201   \n",
       "4  12 St & Sinatra Dr N            HB201  12 St & Sinatra Dr N          HB201   \n",
       "\n",
       "  member_casual  \n",
       "0        member  \n",
       "1        member  \n",
       "2        member  \n",
       "3        member  \n",
       "4        member  "
      ]
     },
     "execution_count": 3,
     "metadata": {},
     "output_type": "execute_result"
    }
   ],
   "source": [
    "remove_col=['ride_id', 'start_lat', 'start_lng', 'end_lat', 'end_lng']\n",
    "trip = trip.drop(labels=remove_col, axis=1)\n",
    "trip.head()"
   ]
  },
  {
   "cell_type": "markdown",
   "metadata": {},
   "source": [
    "### Exploratory Data Analysis\n"
   ]
  },
  {
   "cell_type": "markdown",
   "metadata": {},
   "source": [
    "#### Data Question #1 - What is the most used bike share and by whom?\n",
    "We analyze the most used ride among _'electric_bike'_, _'classic_bike'_, _'docked_bike'_, _'rideable_type'_. \n",
    "Showing the total number of rides and its percentage of use."
   ]
  },
  {
   "cell_type": "code",
   "execution_count": 4,
   "metadata": {},
   "outputs": [
    {
     "name": "stdout",
     "output_type": "stream",
     "text": [
      "The most used bike type is: classic_bike\n",
      "Total rides using classic_bike: 627175\n",
      "Percentage of rides using classic_bike: 70.04%\n"
     ]
    }
   ],
   "source": [
    "def count_bike_types(df, column_name):\n",
    "    bike_type_counts = df[column_name].value_counts()\n",
    "    total_rides = len(df)\n",
    "    bike_type_percentages = (bike_type_counts / total_rides) * 100\n",
    "\n",
    "    bike_type_stats = pd.DataFrame({\n",
    "        'Count': bike_type_counts,\n",
    "        'Percentage': bike_type_percentages\n",
    "    })\n",
    "\n",
    "    return bike_type_stats\n",
    "\n",
    "bike_type_stats = count_bike_types(trip, 'rideable_type')\n",
    "\n",
    "most_used_bike_type = bike_type_stats.index[0]\n",
    "most_used_bike_count = bike_type_stats['Count'].iloc[0]\n",
    "most_used_bike_percentage = bike_type_stats['Percentage'].iloc[0]\n",
    "\n",
    "print(f\"The most used bike type is: {most_used_bike_type}\")\n",
    "print(f\"Total rides using {most_used_bike_type}: {most_used_bike_count}\")\n",
    "print(f\"Percentage of rides using {most_used_bike_type}: {most_used_bike_percentage:.2f}%\")"
   ]
  },
  {
   "cell_type": "markdown",
   "metadata": {},
   "source": [
    "Let's create a __top3__ of the most used means:"
   ]
  },
  {
   "cell_type": "code",
   "execution_count": 5,
   "metadata": {},
   "outputs": [
    {
     "name": "stdout",
     "output_type": "stream",
     "text": [
      "Top 3 Bike Types and Percentages:\n",
      "classic_bike: 70.04%\n",
      "electric_bike: 29.10%\n",
      "docked_bike: 0.87%\n"
     ]
    }
   ],
   "source": [
    "def count_bike_types(df, column_name):\n",
    "    \n",
    "    bike_type_counts = df[column_name].value_counts()\n",
    "    total_rides = len(df)\n",
    "    bike_type_percentages = (bike_type_counts / total_rides) * 100\n",
    "\n",
    "    return bike_type_percentages\n",
    "\n",
    "bike_type_percentages = count_bike_types(trip, 'rideable_type')\n",
    "top_3_bike_types = bike_type_percentages.nlargest(3)\n",
    "\n",
    "print(\"Top 3 Bike Types and Percentages:\")\n",
    "for index, percentage in top_3_bike_types.items():\n",
    "    print(f\"{index}: {percentage:.2f}%\")\n"
   ]
  },
  {
   "cell_type": "markdown",
   "metadata": {},
   "source": [
    " Let's analyze who uses the service: _'member'_ and _'casual'_\n"
   ]
  },
  {
   "cell_type": "code",
   "execution_count": 6,
   "metadata": {},
   "outputs": [
    {
     "name": "stdout",
     "output_type": "stream",
     "text": [
      "User Type Usage Statistics:\n",
      "       User Type      Count   Percentage\n",
      "0         member  65.752314  6575.231408\n",
      "1         casual  34.246346  3424.634588\n",
      "2  member_casual   0.001228     0.122837\n"
     ]
    }
   ],
   "source": [
    "def count_user_types(df, column_name):\n",
    "    user_type_counts = df[column_name].value_counts()\n",
    "    total_rides = len(df)\n",
    "    user_type_percentages = (user_type_counts / total_rides) * 100\n",
    "\n",
    "    return user_type_percentages\n",
    "\n",
    "user_type_percentages = count_user_types(trip, 'member_casual')\n",
    "\n",
    "user_type_stats = pd.DataFrame({\n",
    "    'User Type': user_type_percentages.index,\n",
    "    'Count': user_type_percentages.values,\n",
    "    'Percentage': user_type_percentages.values * 100\n",
    "})\n",
    "\n",
    "print(\"User Type Usage Statistics:\")\n",
    "print(user_type_stats.to_string(index=True))"
   ]
  },
  {
   "cell_type": "markdown",
   "metadata": {},
   "source": [
    " Let's analyze which medium _'member'_ users prefer to use"
   ]
  },
  {
   "cell_type": "code",
   "execution_count": 7,
   "metadata": {},
   "outputs": [
    {
     "name": "stdout",
     "output_type": "stream",
     "text": [
      "The most preferred bike type among 'member' users is: classic_bike\n",
      "Percentage of rides using classic_bike by 'member' users: 74.75%\n"
     ]
    }
   ],
   "source": [
    "member_trips = trip[trip['member_casual'] == 'member']\n",
    "\n",
    "member_bike_type_counts = count_bike_types(member_trips, 'rideable_type')\n",
    "\n",
    "most_used_bike_type_member = member_bike_type_counts.idxmax()\n",
    "\n",
    "member_bike_type_percentages = count_bike_types(member_trips, 'rideable_type')\n",
    "most_used_bike_percentage_member = member_bike_type_percentages[most_used_bike_type_member]\n",
    "\n",
    "print(f\"The most preferred bike type among 'member' users is: {most_used_bike_type_member}\")\n",
    "print(f\"Percentage of rides using {most_used_bike_type_member} by 'member' users: {most_used_bike_percentage_member:.2f}%\")"
   ]
  },
  {
   "cell_type": "markdown",
   "metadata": {},
   "source": [
    "Question number #1 allows us to understand that the largest users of the service are 'member' users i.e., those with a subscription and that the preferred means of transportation is the classic bicycle. We have established the basis for our research."
   ]
  },
  {
   "cell_type": "markdown",
   "metadata": {},
   "source": [
    "#### Data Question #2 - What is the most used route?"
   ]
  },
  {
   "cell_type": "markdown",
   "metadata": {},
   "source": [
    " Let us now analyze which route is the most used by bikesharing users. "
   ]
  },
  {
   "cell_type": "code",
   "execution_count": 8,
   "metadata": {},
   "outputs": [
    {
     "name": "stdout",
     "output_type": "stream",
     "text": [
      "The most used bike trip route is: Hoboken Terminal - Hudson St & Hudson Pl - Hoboken Ave at Monmouth St\n",
      "Number of times the route Hoboken Terminal - Hudson St & Hudson Pl - Hoboken Ave at Monmouth St was used: 5565\n"
     ]
    }
   ],
   "source": [
    "trip['route'] = trip['start_station_name'] + \" - \" + trip['end_station_name']\n",
    "\n",
    "route_counts = trip['route'].value_counts()\n",
    "\n",
    "most_used_route = route_counts.idxmax()\n",
    "most_used_route_count = route_counts.max()\n",
    "\n",
    "print(f\"The most used bike trip route is: {most_used_route}\")\n",
    "print(f\"Number of times the route {most_used_route} was used: {most_used_route_count}\")"
   ]
  },
  {
   "cell_type": "markdown",
   "metadata": {},
   "source": [
    "__Top 10__ most used routes:"
   ]
  },
  {
   "cell_type": "code",
   "execution_count": 9,
   "metadata": {},
   "outputs": [
    {
     "name": "stdout",
     "output_type": "stream",
     "text": [
      "Top 10 Most Used Bike Trip Routes:\n",
      "                                                                                      Route  Count\n",
      "                      Hoboken Terminal - Hudson St & Hudson Pl - Hoboken Ave at Monmouth St   5565\n",
      "South Waterfront Walkway - Sinatra Dr & 1 St - South Waterfront Walkway - Sinatra Dr & 1 St   5439\n",
      "                                                           Marin Light Rail - Grove St PATH   4113\n",
      "                      Hoboken Ave at Monmouth St - Hoboken Terminal - Hudson St & Hudson Pl   4083\n",
      "                                                           Grove St PATH - Marin Light Rail   3973\n",
      "                        12 St & Sinatra Dr N - South Waterfront Walkway - Sinatra Dr & 1 St   3964\n",
      "                                                    Liberty Light Rail - Liberty Light Rail   3696\n",
      "                        South Waterfront Walkway - Sinatra Dr & 1 St - 12 St & Sinatra Dr N   3495\n",
      "                                                              Hamilton Park - Grove St PATH   3203\n",
      "                                                                Newport Pkwy - Newport Pkwy   3131\n"
     ]
    }
   ],
   "source": [
    "top_10_routes = route_counts.nlargest(10)\n",
    "\n",
    "top_10_routes = top_10_routes.reset_index()\n",
    "top_10_routes.columns = ['Route', 'Count']  # Rename columns for clarity\n",
    "\n",
    "print(\"Top 10 Most Used Bike Trip Routes:\")\n",
    "print(top_10_routes.to_string(index=False))"
   ]
  },
  {
   "cell_type": "markdown",
   "metadata": {},
   "source": [
    " The results also show the use of the bikesharing service for pure enjoyment. \n",
    "As evidenced by the route __'South Waterfront Walkway - Sinatra Dr & 1 St - South Waterfront Walkway - Sinatra Dr & 1 St'__ where the start station is the same as the end station. "
   ]
  },
  {
   "cell_type": "markdown",
   "metadata": {},
   "source": [
    "We determine who mainly used between _'member'_ and _'casual'_ the main route _'Hoboken Terminal - Hudson St & Hudson Pl - Hoboken Ave at Monmouth St'_"
   ]
  },
  {
   "cell_type": "code",
   "execution_count": 10,
   "metadata": {},
   "outputs": [
    {
     "name": "stdout",
     "output_type": "stream",
     "text": [
      "The user type that has utilized the most used route (Hoboken Terminal - Hudson St & Hudson Pl - Hoboken Ave at Monmouth St) the most is: casual\n",
      "Number of times Hoboken Terminal - Hudson St & Hudson Pl - Hoboken Ave at Monmouth St was used by casual users: 3081\n"
     ]
    }
   ],
   "source": [
    "most_used_route = route_counts.idxmax()\n",
    "\n",
    "member_trips = trip[trip['member_casual'] == 'member']\n",
    "casual_trips = trip[trip['member_casual'] == 'casual']\n",
    "\n",
    "member_route_count = member_trips[member_trips['route'] == most_used_route]['route'].count()\n",
    "casual_route_count = casual_trips[casual_trips['route'] == most_used_route]['route'].count()\n",
    "\n",
    "if member_route_count > casual_route_count:\n",
    "    most_frequent_user_type = \"member\"\n",
    "    most_frequent_user_count = member_route_count\n",
    "else:\n",
    "    most_frequent_user_type = \"casual\"\n",
    "    most_frequent_user_count = casual_route_count\n",
    "\n",
    "print(f\"The user type that has utilized the most used route ({most_used_route}) the most is: {most_frequent_user_type}\")\n",
    "print(f\"Number of times {most_used_route} was used by {most_frequent_user_type} users: {most_frequent_user_count}\")\n"
   ]
  },
  {
   "cell_type": "markdown",
   "metadata": {},
   "source": [
    "#### Data Question #3 - Is the bike share service used exclusively for business purposes?"
   ]
  },
  {
   "cell_type": "markdown",
   "metadata": {},
   "source": [
    "From an analysis of the data, taking into account the top 10 most frequently used routes, it is possible to predict that __40% of the rides are related to pure enjoyment__. This deduction stems from the fact that the start and finish stations are in the vicinity of parks and cycle paths along the Hudson River. The routes considered are:\n",
    "* South Waterfront Walkway - Sinatra Dr & 1 St - South Waterfront Walkway - Sinatra Dr & 1 St\n",
    "* 12 St & Sinatra Dr N - South Waterfront Walkway - Sinatra Dr & 1 St\n",
    "* Liberty Light Rail - Liberty Light Rail\n",
    "* South Waterfront Walkway - Sinatra Dr & 1 St - 12 St & Sinatra Dr N"
   ]
  },
  {
   "cell_type": "markdown",
   "metadata": {},
   "source": [
    "#### Data Question #4 - In which month is the service most used and for what reason"
   ]
  },
  {
   "cell_type": "markdown",
   "metadata": {},
   "source": [
    "Let's analyze the month with the highest number of runs"
   ]
  },
  {
   "cell_type": "code",
   "execution_count": 11,
   "metadata": {},
   "outputs": [
    {
     "name": "stdout",
     "output_type": "stream",
     "text": [
      "The bike-sharing service was most used in month: 8.0\n"
     ]
    }
   ],
   "source": [
    "trip = trip.dropna(subset=['started_at'])\n",
    "trip['started_at'] = pd.to_datetime(trip['started_at'], format='%Y-%m-%d', errors='coerce')\n",
    "\n",
    "months = trip['started_at'].dt.month\n",
    "\n",
    "month_counts = months.value_counts()\n",
    "most_common_month = month_counts.index[0]\n",
    "\n",
    "print(\"The bike-sharing service was most used in month:\", most_common_month)"
   ]
  },
  {
   "cell_type": "markdown",
   "metadata": {},
   "source": [
    "Now that we know that __August__ is the month with the most bikesharing rides, let's determine what type of user used the service, by what means and on what route."
   ]
  },
  {
   "cell_type": "code",
   "execution_count": 12,
   "metadata": {},
   "outputs": [
    {
     "name": "stdout",
     "output_type": "stream",
     "text": [
      "User type distribution for August trips:\n",
      "member    71633\n",
      "casual    43598\n",
      "Name: member_casual, dtype: int64\n",
      "\n",
      "Vehicle type distribution for August trips:\n",
      "classic_bike     87493\n",
      "electric_bike    26597\n",
      "docked_bike       1141\n",
      "Name: rideable_type, dtype: int64\n",
      "\n",
      "Route distribution for August trips:\n",
      "South Waterfront Walkway - Sinatra Dr & 1 St - South Waterfront Walkway - Sinatra Dr & 1 St    842\n",
      "Hoboken Terminal - Hudson St & Hudson Pl - Hoboken Ave at Monmouth St                          617\n",
      "Liberty Light Rail - Liberty Light Rail                                                        560\n",
      "Marin Light Rail - Grove St PATH                                                               512\n",
      "Grove St PATH - Marin Light Rail                                                               510\n",
      "                                                                                              ... \n",
      "Hamilton Park - W 16 St & The High Line                                                          1\n",
      "Monmouth and 6th - Stevens - River Ter & 6 St                                                    1\n",
      "Dey St - Stevens - River Ter & 6 St                                                              1\n",
      "Heights Elevator - Stevens - River Ter & 6 St                                                    1\n",
      "City Hall - Washington St & 1 St - Montgomery St                                                 1\n",
      "Name: route, Length: 5239, dtype: int64\n"
     ]
    }
   ],
   "source": [
    "most_common_month = 8\n",
    "\n",
    "august_trips = trip[trip['started_at'].dt.month == most_common_month]\n",
    "\n",
    "user_type_counts = august_trips['member_casual'].value_counts()\n",
    "vehicle_type_counts = august_trips['rideable_type'].value_counts()\n",
    "route_counts = august_trips['route'].value_counts()\n",
    "\n",
    "print(\"User type distribution for August trips:\")\n",
    "print(user_type_counts)\n",
    "\n",
    "print(\"\\nVehicle type distribution for August trips:\")\n",
    "print(vehicle_type_counts)\n",
    "\n",
    "print(\"\\nRoute distribution for August trips:\")\n",
    "print(route_counts)\n"
   ]
  },
  {
   "cell_type": "markdown",
   "metadata": {},
   "source": [
    "August is the month with the most rides. Despite the summer period, non-recreational rides are the most used. Despite the fact that the most used route is:\n",
    "* South Waterfront Walkway - Sinatra Dr & 1 St - South Waterfront Walkway - Sinatra Dr & 1 St"
   ]
  }
 ],
 "metadata": {
  "kernelspec": {
   "display_name": "Python 3",
   "language": "python",
   "name": "python3"
  },
  "language_info": {
   "codemirror_mode": {
    "name": "ipython",
    "version": 3
   },
   "file_extension": ".py",
   "mimetype": "text/x-python",
   "name": "python",
   "nbconvert_exporter": "python",
   "pygments_lexer": "ipython3",
   "version": "3.10.11"
  }
 },
 "nbformat": 4,
 "nbformat_minor": 2
}
